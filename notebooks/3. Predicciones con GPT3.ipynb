{
 "cells": [
  {
   "cell_type": "markdown",
   "id": "beaf4291",
   "metadata": {},
   "source": [
    "\n",
    "# <p style=\"text-align:center\"> <font color='darkorange'>**CUNEF**</font>\n",
    "## <p style=\"text-align:center\"> **TFM - Análisis de sentimiento pólitico en Twitter**\n",
    "### <p style=\"text-align:center\"> **3. Predicciones con GPT3**</strong><br />\n",
    "    \n",
    "<p style=\"text-align:left\">Pablo Mazariegos Reviriego - <font color='orange'>pablo.mazariegos@cunef.edu </font>"
   ]
  },
  {
   "cell_type": "markdown",
   "id": "a0154a84",
   "metadata": {},
   "source": [
    "En este proyecto de Trabajo Fin de Máster, realizaremos un análisis de sentimiento de los tweets hechos por los 5 candidatos políticos a la presidencia de Madrid durante el período de campaña política que abarcó desde el 12 hasta el 27 de mayo de 2023. Utilizaremos una base de datos recopilada manualmente que contiene los tweets de los candidatos. El objetivo principal de este proyecto es desarrollar modelos de aprendizaje automático que puedan clasificar los tweets según su sentimiento (positivo, negativo o neutral).\n",
    "\n",
    "El proyecto se organizará en diferentes cuadernos, cada uno enfocado en una etapa específica del proceso:\n",
    "\n",
    " 1. EDA y Selección/Preparación de variables\n",
    " 2. Word Cloud y Análisis de viralidad\n",
    " 3. <font color='darkgreen'> **Predicciones con GPT3**</font>\n",
    " 4. Otros Modelos\n",
    "\n",
    "Este cuaderno se enfoca \n",
    "\n",
    "  **INDICE:**\n",
    " \n",
    " - [Importación de Librerias](#0) \n",
    " - [Funciones utilizadas en este notebook](#1) \n",
    " - [Carga de datos](#2)\n",
    " - [Creación de Json de los datos](#3)"
   ]
  },
  {
   "cell_type": "markdown",
   "id": "43e6d053",
   "metadata": {},
   "source": [
    "##  <a name=\"0\"> Importación de Librerias</a>"
   ]
  },
  {
   "cell_type": "code",
   "execution_count": 41,
   "id": "31bb61a3",
   "metadata": {},
   "outputs": [],
   "source": [
    "import pandas as pd\n",
    "import seaborn as sns\n",
    "import json\n",
    "import openai\n",
    "from getpass import getpass\n",
    "\n",
    "import warnings\n",
    "warnings.filterwarnings('ignore')"
   ]
  },
  {
   "cell_type": "markdown",
   "id": "5d9d2139",
   "metadata": {},
   "source": [
    "##  <a name=\"2\"> Carga de datos</a>"
   ]
  },
  {
   "cell_type": "code",
   "execution_count": null,
   "id": "ad7f808f",
   "metadata": {},
   "outputs": [],
   "source": [
    "API_KEY_OPENAI = getpass('Introduce tu API_KEY de Open AI:')\n",
    "\n",
    "openai.api_key = API_KEY_OPENAI\n",
    "os.environ['OPENAI_API_KEY'] = API_KEY_OPENAI"
   ]
  },
  {
   "cell_type": "code",
   "execution_count": 20,
   "id": "5b52746d",
   "metadata": {},
   "outputs": [
    {
     "data": {
      "text/html": [
       "<div>\n",
       "<style scoped>\n",
       "    .dataframe tbody tr th:only-of-type {\n",
       "        vertical-align: middle;\n",
       "    }\n",
       "\n",
       "    .dataframe tbody tr th {\n",
       "        vertical-align: top;\n",
       "    }\n",
       "\n",
       "    .dataframe thead th {\n",
       "        text-align: right;\n",
       "    }\n",
       "</style>\n",
       "<table border=\"1\" class=\"dataframe\">\n",
       "  <thead>\n",
       "    <tr style=\"text-align: right;\">\n",
       "      <th></th>\n",
       "      <th>partido</th>\n",
       "      <th>partido_num</th>\n",
       "      <th>candidato</th>\n",
       "      <th>nick</th>\n",
       "      <th>followers</th>\n",
       "      <th>fecha</th>\n",
       "      <th>post</th>\n",
       "      <th>post_clean</th>\n",
       "      <th>sentimiento</th>\n",
       "      <th>sentimiento_num</th>\n",
       "      <th>...</th>\n",
       "      <th>comments vs viewed</th>\n",
       "      <th>shared</th>\n",
       "      <th>shared vs viewed</th>\n",
       "      <th>likes</th>\n",
       "      <th>likes vs viewed</th>\n",
       "      <th>votos</th>\n",
       "      <th>porcentaje</th>\n",
       "      <th>escaños</th>\n",
       "      <th>Num_words_POST</th>\n",
       "      <th>sentimiento_clean</th>\n",
       "    </tr>\n",
       "  </thead>\n",
       "  <tbody>\n",
       "    <tr>\n",
       "      <th>0</th>\n",
       "      <td>PP</td>\n",
       "      <td>4</td>\n",
       "      <td>Isabel Díaz Ayuso</td>\n",
       "      <td>@IdiazAyuso</td>\n",
       "      <td>912100</td>\n",
       "      <td>2023-05-12</td>\n",
       "      <td>Comenzamos la campaña, una vez más, junto a la...</td>\n",
       "      <td>comenzamos la campaa una vez ms junto a la agr...</td>\n",
       "      <td>Positive</td>\n",
       "      <td>1</td>\n",
       "      <td>...</td>\n",
       "      <td>0.003373</td>\n",
       "      <td>261</td>\n",
       "      <td>0.004446</td>\n",
       "      <td>1260</td>\n",
       "      <td>0.021465</td>\n",
       "      <td>1586985</td>\n",
       "      <td>0.4734</td>\n",
       "      <td>71</td>\n",
       "      <td>42</td>\n",
       "      <td>comenzamos campaa vez ms junto agricultura cam...</td>\n",
       "    </tr>\n",
       "    <tr>\n",
       "      <th>1</th>\n",
       "      <td>PP</td>\n",
       "      <td>4</td>\n",
       "      <td>Isabel Díaz Ayuso</td>\n",
       "      <td>@IdiazAyuso</td>\n",
       "      <td>912100</td>\n",
       "      <td>2023-05-12</td>\n",
       "      <td>Madrid es la región del Espíritu de Ermua, la ...</td>\n",
       "      <td>madrid es la regin del espritu de ermua la que...</td>\n",
       "      <td>Negative</td>\n",
       "      <td>-1</td>\n",
       "      <td>...</td>\n",
       "      <td>0.005413</td>\n",
       "      <td>561</td>\n",
       "      <td>0.005522</td>\n",
       "      <td>2127</td>\n",
       "      <td>0.020935</td>\n",
       "      <td>1586985</td>\n",
       "      <td>0.4734</td>\n",
       "      <td>70</td>\n",
       "      <td>24</td>\n",
       "      <td>madrid regin espritu ermua admite totalitarios...</td>\n",
       "    </tr>\n",
       "    <tr>\n",
       "      <th>2</th>\n",
       "      <td>PP</td>\n",
       "      <td>4</td>\n",
       "      <td>Isabel Díaz Ayuso</td>\n",
       "      <td>@IdiazAyuso</td>\n",
       "      <td>912100</td>\n",
       "      <td>2023-05-12</td>\n",
       "      <td>Majadahonda con ganas de Libertad, familia, un...</td>\n",
       "      <td>majadahonda con ganas de libertad familia unid...</td>\n",
       "      <td>Positive</td>\n",
       "      <td>1</td>\n",
       "      <td>...</td>\n",
       "      <td>0.002345</td>\n",
       "      <td>213</td>\n",
       "      <td>0.003568</td>\n",
       "      <td>1042</td>\n",
       "      <td>0.017454</td>\n",
       "      <td>1586985</td>\n",
       "      <td>0.4734</td>\n",
       "      <td>70</td>\n",
       "      <td>18</td>\n",
       "      <td>majadahonda ganas libertad familia unidad aleg...</td>\n",
       "    </tr>\n",
       "    <tr>\n",
       "      <th>3</th>\n",
       "      <td>PP</td>\n",
       "      <td>4</td>\n",
       "      <td>Isabel Díaz Ayuso</td>\n",
       "      <td>@IdiazAyuso</td>\n",
       "      <td>912100</td>\n",
       "      <td>2023-05-13</td>\n",
       "      <td>Presidente: líbranos del mal.</td>\n",
       "      <td>presidente lbranos del mal</td>\n",
       "      <td>Negative</td>\n",
       "      <td>-1</td>\n",
       "      <td>...</td>\n",
       "      <td>0.002700</td>\n",
       "      <td>549</td>\n",
       "      <td>0.001660</td>\n",
       "      <td>2592</td>\n",
       "      <td>0.007836</td>\n",
       "      <td>1586985</td>\n",
       "      <td>0.4734</td>\n",
       "      <td>70</td>\n",
       "      <td>4</td>\n",
       "      <td>presidente lbranos mal</td>\n",
       "    </tr>\n",
       "    <tr>\n",
       "      <th>4</th>\n",
       "      <td>PP</td>\n",
       "      <td>4</td>\n",
       "      <td>Isabel Díaz Ayuso</td>\n",
       "      <td>@IdiazAyuso</td>\n",
       "      <td>912100</td>\n",
       "      <td>2023-05-13</td>\n",
       "      <td>En Madrid sólo habrá 2 tarifas de transporte p...</td>\n",
       "      <td>en madrid slo habr 2 tarifas de transporte pbl...</td>\n",
       "      <td>Negative</td>\n",
       "      <td>-1</td>\n",
       "      <td>...</td>\n",
       "      <td>0.001445</td>\n",
       "      <td>759</td>\n",
       "      <td>0.003562</td>\n",
       "      <td>3016</td>\n",
       "      <td>0.014153</td>\n",
       "      <td>1586985</td>\n",
       "      <td>0.4734</td>\n",
       "      <td>70</td>\n",
       "      <td>51</td>\n",
       "      <td>madrid slo habr 2 tarifas transporte pblico ma...</td>\n",
       "    </tr>\n",
       "  </tbody>\n",
       "</table>\n",
       "<p>5 rows × 29 columns</p>\n",
       "</div>"
      ],
      "text/plain": [
       "  partido  partido_num          candidato          nick  followers  \\\n",
       "0      PP            4  Isabel Díaz Ayuso   @IdiazAyuso     912100   \n",
       "1      PP            4  Isabel Díaz Ayuso   @IdiazAyuso     912100   \n",
       "2      PP            4  Isabel Díaz Ayuso   @IdiazAyuso     912100   \n",
       "3      PP            4  Isabel Díaz Ayuso   @IdiazAyuso     912100   \n",
       "4      PP            4  Isabel Díaz Ayuso   @IdiazAyuso     912100   \n",
       "\n",
       "        fecha                                               post  \\\n",
       "0  2023-05-12  Comenzamos la campaña, una vez más, junto a la...   \n",
       "1  2023-05-12  Madrid es la región del Espíritu de Ermua, la ...   \n",
       "2  2023-05-12  Majadahonda con ganas de Libertad, familia, un...   \n",
       "3  2023-05-13                      Presidente: líbranos del mal.   \n",
       "4  2023-05-13  En Madrid sólo habrá 2 tarifas de transporte p...   \n",
       "\n",
       "                                          post_clean sentimiento  \\\n",
       "0  comenzamos la campaa una vez ms junto a la agr...    Positive   \n",
       "1  madrid es la regin del espritu de ermua la que...    Negative   \n",
       "2  majadahonda con ganas de libertad familia unid...    Positive   \n",
       "3                         presidente lbranos del mal    Negative   \n",
       "4  en madrid slo habr 2 tarifas de transporte pbl...    Negative   \n",
       "\n",
       "   sentimiento_num  ...  comments vs viewed  shared  shared vs viewed  likes  \\\n",
       "0                1  ...            0.003373     261          0.004446   1260   \n",
       "1               -1  ...            0.005413     561          0.005522   2127   \n",
       "2                1  ...            0.002345     213          0.003568   1042   \n",
       "3               -1  ...            0.002700     549          0.001660   2592   \n",
       "4               -1  ...            0.001445     759          0.003562   3016   \n",
       "\n",
       "   likes vs viewed    votos  porcentaje  escaños  Num_words_POST  \\\n",
       "0         0.021465  1586985      0.4734       71              42   \n",
       "1         0.020935  1586985      0.4734       70              24   \n",
       "2         0.017454  1586985      0.4734       70              18   \n",
       "3         0.007836  1586985      0.4734       70               4   \n",
       "4         0.014153  1586985      0.4734       70              51   \n",
       "\n",
       "                                   sentimiento_clean  \n",
       "0  comenzamos campaa vez ms junto agricultura cam...  \n",
       "1  madrid regin espritu ermua admite totalitarios...  \n",
       "2  majadahonda ganas libertad familia unidad aleg...  \n",
       "3                             presidente lbranos mal  \n",
       "4  madrid slo habr 2 tarifas transporte pblico ma...  \n",
       "\n",
       "[5 rows x 29 columns]"
      ]
     },
     "execution_count": 20,
     "metadata": {},
     "output_type": "execute_result"
    }
   ],
   "source": [
    "file_path = '../data/processed/df_sentimiento_final.csv'\n",
    "df = pd.read_csv(file_path)\n",
    "df = df.drop(\"Unnamed: 0\", axis=1)\n",
    "df.head()"
   ]
  },
  {
   "cell_type": "markdown",
   "id": "e98d2833",
   "metadata": {},
   "source": [
    "##  <a name=\"3\"> Creación de Json de los datos</a>"
   ]
  },
  {
   "cell_type": "markdown",
   "id": "2d0a044c",
   "metadata": {},
   "source": [
    "## Guardamos los tweets y partido en un Json"
   ]
  },
  {
   "cell_type": "code",
   "execution_count": 24,
   "id": "d2ad46fe",
   "metadata": {},
   "outputs": [],
   "source": [
    "# Crea un nuevo data frame con las columnas que necesitas\n",
    "new_df = df[['post_clean', 'partido']]\n",
    "\n",
    "# Crea una lista vacía para almacenar los nuevos datos\n",
    "data = []\n",
    "\n",
    "# Itera sobre cada fila del nuevo data frame\n",
    "for index, row in new_df.iterrows():\n",
    "    # Crea un diccionario con el formato que necesitas\n",
    "    entry = {\"prompt\": row['post_clean'], \"completion\": row['partido']}\n",
    "    # Añade el diccionario a la lista\n",
    "    data.append(entry)\n",
    "\n",
    "# Finalmente, escribe los datos en un archivo JSON\n",
    "with open('formatted_tweets_politicos.json', 'w', encoding='utf-8') as f:\n",
    "    json.dump(data, f, ensure_ascii=False, indent=4)\n"
   ]
  },
  {
   "cell_type": "markdown",
   "id": "787c8c7e",
   "metadata": {},
   "source": [
    "## Guardamos los tweets y sentimiento en un Json"
   ]
  },
  {
   "cell_type": "code",
   "execution_count": 27,
   "id": "a5dba1c9",
   "metadata": {},
   "outputs": [],
   "source": [
    "# Crea un nuevo data frame con las columnas que necesitas\n",
    "new_df = df[['post_clean', 'sentimiento']]\n",
    "\n",
    "# Crea una lista vacía para almacenar los nuevos datos\n",
    "data = []\n",
    "\n",
    "# Itera sobre cada fila del nuevo data frame\n",
    "for index, row in new_df.iterrows():\n",
    "    # Crea un diccionario con el formato que necesitas\n",
    "    entry = {\"prompt\": row['post_clean'], \"completion\": row['sentimiento']}\n",
    "    # Añade el diccionario a la lista\n",
    "    data.append(entry)\n",
    "\n",
    "# Finalmente, escribe los datos en un archivo JSON\n",
    "with open('formatted_tweets_sentimiento.json', 'w', encoding='utf-8') as f:\n",
    "    json.dump(data, f, ensure_ascii=False, indent=4)\n"
   ]
  },
  {
   "cell_type": "code",
   "execution_count": 36,
   "id": "e98e4b1c",
   "metadata": {},
   "outputs": [
    {
     "name": "stdout",
     "output_type": "stream",
     "text": [
      "Analyzing...\n",
      "\n",
      "- Your file contains 770 prompt-completion pairs\n",
      "- Based on your data it seems like you're trying to fine-tune a model for classification\n",
      "- For classification, we recommend you try one of the faster and cheaper models, such as `ada`\n",
      "- For classification, you can estimate the expected model performance by keeping a held out dataset, which is not used for training\n",
      "- There are 5 duplicated prompt-completion sets. These are rows: [117, 425, 526, 539, 592]\n",
      "- More than a third of your `completion` column/key is uppercase. Uppercase completions tends to perform worse than a mixture of case encountered in normal language. We recommend to lower case the data if that makes sense in your domain. See https://platform.openai.com/docs/guides/fine-tuning/preparing-your-dataset for more details\n",
      "- Your data does not contain a common separator at the end of your prompts. Having a separator string appended to the end of the prompt makes it clearer to the fine-tuned model where the completion should begin. See https://platform.openai.com/docs/guides/fine-tuning/preparing-your-dataset for more detail and examples. If you intend to do open-ended generation, then you should leave the prompts empty\n",
      "- The completion should start with a whitespace character (` `). This tends to produce better results due to the tokenization we use. See https://platform.openai.com/docs/guides/fine-tuning/preparing-your-dataset for more details\n",
      "\n",
      "Based on the analysis we will perform the following actions:\n",
      "- [Recommended] Remove 5 duplicate rows [Y/n]: Y\n",
      "- [Recommended] Lowercase all your data in column/key `completion` [Y/n]: Y\n",
      "- [Recommended] Add a suffix separator `\\n\\n###\\n\\n` to all prompts [Y/n]: Y\n",
      "- [Recommended] Add a whitespace character to the beginning of the completion [Y/n]: Y\n",
      "- [Recommended] Would you like to split into training and validation set? [Y/n]: Y\n",
      "\n",
      "\n",
      "Your data will be written to a new JSONL file. Proceed [Y/n]: Y\n",
      "\n",
      "Wrote modified files to `formatted_tweets_politicos_prepared_train.jsonl` and `formatted_tweets_politicos_prepared_valid.jsonl`\n",
      "Feel free to take a look!\n",
      "\n",
      "Now use that file when fine-tuning:\n",
      "> openai api fine_tunes.create -t \"formatted_tweets_politicos_prepared_train.jsonl\" -v \"formatted_tweets_politicos_prepared_valid.jsonl\" --compute_classification_metrics --classification_n_classes 5\n",
      "\n",
      "After you’ve fine-tuned a model, remember that your prompt has to end with the indicator string `\\n\\n###\\n\\n` for the model to start generating completions, rather than continuing with the prompt.\n",
      "Once your model starts training, it'll approximately take 20.69 minutes to train a `curie` model, and less for `ada` and `babbage`. Queue will approximately take half an hour per job ahead of you.\n"
     ]
    },
    {
     "name": "stderr",
     "output_type": "stream",
     "text": [
      "C:\\Users\\Pablo\\anaconda3\\lib\\site-packages\\openai\\validators.py:452: SettingWithCopyWarning: \n",
      "A value is trying to be set on a copy of a slice from a DataFrame.\n",
      "Try using .loc[row_indexer,col_indexer] = value instead\n",
      "\n",
      "See the caveats in the documentation: https://pandas.pydata.org/pandas-docs/stable/user_guide/indexing.html#returning-a-view-versus-a-copy\n",
      "  x[column] = x[column].str.lower()\n",
      "C:\\Users\\Pablo\\anaconda3\\lib\\site-packages\\openai\\validators.py:226: SettingWithCopyWarning: \n",
      "A value is trying to be set on a copy of a slice from a DataFrame.\n",
      "Try using .loc[row_indexer,col_indexer] = value instead\n",
      "\n",
      "See the caveats in the documentation: https://pandas.pydata.org/pandas-docs/stable/user_guide/indexing.html#returning-a-view-versus-a-copy\n",
      "  x[\"prompt\"] += suffix\n",
      "C:\\Users\\Pablo\\anaconda3\\lib\\site-packages\\openai\\validators.py:425: SettingWithCopyWarning: \n",
      "A value is trying to be set on a copy of a slice from a DataFrame.\n",
      "Try using .loc[row_indexer,col_indexer] = value instead\n",
      "\n",
      "See the caveats in the documentation: https://pandas.pydata.org/pandas-docs/stable/user_guide/indexing.html#returning-a-view-versus-a-copy\n",
      "  x[\"completion\"] = x[\"completion\"].apply(\n"
     ]
    }
   ],
   "source": [
    "!openai tools fine_tunes.prepare_data -f formatted_tweets_politicos.json -q"
   ]
  },
  {
   "cell_type": "code",
   "execution_count": 38,
   "id": "a8f731fc",
   "metadata": {},
   "outputs": [
    {
     "name": "stderr",
     "output_type": "stream",
     "text": [
      "\u001b[91mError:\u001b[0m No API key provided. You can set your API key in code using 'openai.api_key = <API-KEY>', or you can set the environment variable OPENAI_API_KEY=<API-KEY>). If your API key is stored in a file, you can point the openai module at it with 'openai.api_key_path = <PATH>'. You can generate API keys in the OpenAI web interface. See https://platform.openai.com/account/api-keys for details.\n"
     ]
    }
   ],
   "source": [
    "!openai api fine_tunes.create -t \"formatted_tweets_politicos_train.jsonl\" -v \"formatted_tweets_politicos_valid.jsonl\" -m text-davinci-003"
   ]
  },
  {
   "cell_type": "code",
   "execution_count": 37,
   "id": "13cdafad",
   "metadata": {},
   "outputs": [
    {
     "name": "stderr",
     "output_type": "stream",
     "text": [
      "\u001b[91mError:\u001b[0m No API key provided. You can set your API key in code using 'openai.api_key = <API-KEY>', or you can set the environment variable OPENAI_API_KEY=<API-KEY>). If your API key is stored in a file, you can point the openai module at it with 'openai.api_key_path = <PATH>'. You can generate API keys in the OpenAI web interface. See https://platform.openai.com/account/api-keys for details.\n"
     ]
    }
   ],
   "source": [
    "!openai api fine_tunes.create -t formatted_tweets_politicos_prepared.jsonl -m text-davinci-003"
   ]
  },
  {
   "cell_type": "code",
   "execution_count": null,
   "id": "9b2cdf96",
   "metadata": {},
   "outputs": [],
   "source": [
    "#openai tools fine_tunes.prepare_data -f <formatted_tweets_sentimiento.json> -q"
   ]
  },
  {
   "cell_type": "code",
   "execution_count": null,
   "id": "51bfd4b1",
   "metadata": {},
   "outputs": [],
   "source": [
    "penai api fine_tunes.create -t  <LOCAL_FILE>_prepared.jsonl -m text-davinci-003"
   ]
  }
 ],
 "metadata": {
  "kernelspec": {
   "display_name": "TFM",
   "language": "python",
   "name": "tfm"
  },
  "language_info": {
   "codemirror_mode": {
    "name": "ipython",
    "version": 3
   },
   "file_extension": ".py",
   "mimetype": "text/x-python",
   "name": "python",
   "nbconvert_exporter": "python",
   "pygments_lexer": "ipython3",
   "version": "3.9.16"
  }
 },
 "nbformat": 4,
 "nbformat_minor": 5
}
