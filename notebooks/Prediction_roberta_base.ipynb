{
 "cells": [
  {
   "cell_type": "code",
   "execution_count": 1,
   "id": "fe9d58ba",
   "metadata": {},
   "outputs": [],
   "source": [
    "import pandas as pd\n",
    "from transformers import AutoTokenizer, AutoModelForSequenceClassification\n",
    "from scipy.special import softmax"
   ]
  },
  {
   "cell_type": "markdown",
   "id": "fa75d768",
   "metadata": {},
   "source": [
    "Data Load"
   ]
  },
  {
   "cell_type": "code",
   "execution_count": 12,
   "id": "86e68d02",
   "metadata": {},
   "outputs": [
    {
     "name": "stdout",
     "output_type": "stream",
     "text": [
      "El dataframe tiene 769 filas.\n"
     ]
    }
   ],
   "source": [
    "df_original = pd.read_excel('../data/raw/tweets_12-27Mayo.xlsx')  \n",
    "df_post = df_original['POST']\n",
    "print(\"El dataframe tiene {} filas.\".format(df_post.shape[0]))"
   ]
  },
  {
   "cell_type": "markdown",
   "id": "a6b9703d",
   "metadata": {},
   "source": [
    "Load a pretrained model and its corresponding tokenizer. The model is cardiffnlp/twitter-roberta-base-sentiment, which is a model trained for sentiment analysis."
   ]
  },
  {
   "cell_type": "code",
   "execution_count": 13,
   "id": "4a06c65e",
   "metadata": {},
   "outputs": [],
   "source": [
    "roberta = \"cardiffnlp/twitter-roberta-base-sentiment\"\n",
    "model = AutoModelForSequenceClassification.from_pretrained(roberta)\n",
    "tokenizer = AutoTokenizer.from_pretrained(roberta)"
   ]
  },
  {
   "cell_type": "markdown",
   "id": "4169b474",
   "metadata": {},
   "source": [
    "Define the sentiment labels: Negative, Neutral, and Positive."
   ]
  },
  {
   "cell_type": "code",
   "execution_count": 14,
   "id": "30c38228",
   "metadata": {},
   "outputs": [],
   "source": [
    "labels = ['Negative', 'Neutral', 'Positive']\n"
   ]
  },
  {
   "cell_type": "markdown",
   "id": "4b0262e0",
   "metadata": {},
   "source": [
    "The data frame df is defined to be df_post, which presumably contains the data you're interested in processing."
   ]
  },
  {
   "cell_type": "code",
   "execution_count": 15,
   "id": "36e6421b",
   "metadata": {},
   "outputs": [
    {
     "data": {
      "text/plain": [
       "0    Comenzamos la campaña, una vez más, junto a la...\n",
       "1    Madrid es la región del Espíritu de Ermua, la ...\n",
       "2    Majadahonda con ganas de Libertad, familia, un...\n",
       "3                                                 ❤️❤️\n",
       "4                        Presidente: líbranos del mal.\n",
       "Name: POST, dtype: object"
      ]
     },
     "execution_count": 15,
     "metadata": {},
     "output_type": "execute_result"
    }
   ],
   "source": [
    "df = df_post\n",
    "df.head()"
   ]
  },
  {
   "cell_type": "markdown",
   "id": "ecbb7fe1",
   "metadata": {},
   "source": [
    "Define a function preprocess_tweet to preprocess tweets. This function replaces @mentions with \"@user\" and links (starting with http) with \"http\"."
   ]
  },
  {
   "cell_type": "code",
   "execution_count": 17,
   "id": "bfba92c2",
   "metadata": {},
   "outputs": [],
   "source": [
    "def preprocess_tweet(tweet):\n",
    "    tweet_words = []\n",
    "    for word in tweet.split(' '):\n",
    "        if word.startswith('@') and len(word) > 1:\n",
    "            word = '@user'\n",
    "        elif word.startswith('http'):\n",
    "            word = \"http\"\n",
    "        tweet_words.append(word)\n",
    "    return \" \".join(tweet_words)\n"
   ]
  },
  {
   "cell_type": "code",
   "execution_count": 16,
   "id": "6ca64c15",
   "metadata": {},
   "outputs": [],
   "source": [
    "def preprocess_tweet(tweet):\n",
    "    if isinstance(tweet, float):\n",
    "        return ''\n",
    "    \n",
    "    tweet_words = []\n",
    "    for word in str(tweet).split(' '):\n",
    "        if word.startswith('@') and len(word) > 1:\n",
    "            word = '@user'\n",
    "        elif word.startswith('http') or word.startswith('www'):\n",
    "            word = '@url'\n",
    "        tweet_words.append(word)\n",
    "    \n",
    "    return ' '.join(tweet_words)"
   ]
  },
  {
   "cell_type": "markdown",
   "id": "abce04f7",
   "metadata": {},
   "source": [
    "Apply the preprocess_tweet function to all tweets in the dataframe and store the results in a new column named processed_text."
   ]
  },
  {
   "cell_type": "code",
   "execution_count": 17,
   "id": "c507b271",
   "metadata": {},
   "outputs": [],
   "source": [
    "df['processed_text'] = df.apply(preprocess_tweet)"
   ]
  },
  {
   "cell_type": "markdown",
   "id": "e920bf64",
   "metadata": {},
   "source": [
    "Define a function analyze_sentiment to analyze the sentiment of tweets using the loaded model and tokenizer. This function returns a dictionary of sentiment labels and their corresponding scores."
   ]
  },
  {
   "cell_type": "code",
   "execution_count": 18,
   "id": "b62511dd",
   "metadata": {},
   "outputs": [],
   "source": [
    "def analyze_sentiment(tweet):\n",
    "    encoded_tweet = tokenizer(tweet, return_tensors='pt')\n",
    "    output = model(**encoded_tweet)\n",
    "    scores = output[0][0].detach().numpy()\n",
    "    scores = softmax(scores)\n",
    "    return dict(zip(labels, scores))\n"
   ]
  },
  {
   "cell_type": "markdown",
   "id": "909188a5",
   "metadata": {},
   "source": [
    "Apply the analyze_sentiment function to all processed tweets in the dataframe and store the results in a new column named sentiment_analysis."
   ]
  },
  {
   "cell_type": "code",
   "execution_count": 19,
   "id": "fd064097",
   "metadata": {},
   "outputs": [],
   "source": [
    "df['sentiment_analysis'] = df['processed_text'].apply(analyze_sentiment)\n"
   ]
  },
  {
   "cell_type": "markdown",
   "id": "6440f7cf",
   "metadata": {},
   "source": [
    "Break down the sentiment_analysis column into separate columns for each sentiment label."
   ]
  },
  {
   "cell_type": "code",
   "execution_count": 20,
   "id": "2006f754",
   "metadata": {},
   "outputs": [],
   "source": [
    "sentiment_df = df['sentiment_analysis'].apply(pd.Series)\n"
   ]
  },
  {
   "cell_type": "markdown",
   "id": "f2d56c5b",
   "metadata": {},
   "source": [
    "Concatenate the original data frame with the new sentiment dataframe along columns (axis=1)."
   ]
  },
  {
   "cell_type": "code",
   "execution_count": 21,
   "id": "80a7e727",
   "metadata": {},
   "outputs": [],
   "source": [
    "df = pd.concat([df_original, sentiment_df], axis=1)\n"
   ]
  },
  {
   "cell_type": "markdown",
   "id": "fe418965",
   "metadata": {},
   "source": [
    "Determine the final sentiment for each tweet by choosing the sentiment label with the highest score, and store this in a new column named final_sentiment."
   ]
  },
  {
   "cell_type": "code",
   "execution_count": 24,
   "id": "97d75460",
   "metadata": {},
   "outputs": [],
   "source": [
    "df['final_sentiment'] = sentiment_df.idxmax(axis=1)\n"
   ]
  },
  {
   "cell_type": "markdown",
   "id": "ad518df8",
   "metadata": {},
   "source": [
    "We export it to csv."
   ]
  },
  {
   "cell_type": "code",
   "execution_count": 26,
   "id": "c3a74ce0",
   "metadata": {},
   "outputs": [],
   "source": [
    "df.to_csv('../data/processed/df_Sentiment_pred_roberta_base.csv')"
   ]
  }
 ],
 "metadata": {
  "kernelspec": {
   "display_name": "TFM",
   "language": "python",
   "name": "tfm"
  },
  "language_info": {
   "codemirror_mode": {
    "name": "ipython",
    "version": 3
   },
   "file_extension": ".py",
   "mimetype": "text/x-python",
   "name": "python",
   "nbconvert_exporter": "python",
   "pygments_lexer": "ipython3",
   "version": "3.9.16"
  }
 },
 "nbformat": 4,
 "nbformat_minor": 5
}
