{
 "cells": [
  {
   "cell_type": "code",
   "execution_count": 1,
   "id": "fe9d58ba",
   "metadata": {},
   "outputs": [],
   "source": [
    "import pandas as pd\n",
    "from transformers import AutoTokenizer, AutoModelForSequenceClassification\n",
    "from scipy.special import softmax\n",
    "import re"
   ]
  },
  {
   "cell_type": "markdown",
   "id": "fa75d768",
   "metadata": {},
   "source": [
    "Data Load"
   ]
  },
  {
   "cell_type": "code",
   "execution_count": 2,
   "id": "86e68d02",
   "metadata": {},
   "outputs": [
    {
     "name": "stdout",
     "output_type": "stream",
     "text": [
      "The dataframe has 776 rows and 19 columns.\n"
     ]
    }
   ],
   "source": [
    "df_original = pd.read_excel('../data/raw/tweets_12-27Mayo.xlsx')  \n",
    "df_post = df_original['POST']\n",
    "print(\"The dataframe has {} rows and {} columns.\".format(df_original.shape[0], df_original.shape[1]))"
   ]
  },
  {
   "cell_type": "markdown",
   "id": "a6b9703d",
   "metadata": {},
   "source": [
    "Load a pretrained model and its corresponding tokenizer. The model is cardiffnlp/twitter-roberta-base-sentiment, which is a model trained for sentiment analysis."
   ]
  },
  {
   "cell_type": "code",
   "execution_count": 3,
   "id": "4a06c65e",
   "metadata": {},
   "outputs": [],
   "source": [
    "MODEL = \"cardiffnlp/xlm-twitter-politics-sentiment\"\n",
    "model = AutoModelForSequenceClassification.from_pretrained(MODEL)\n",
    "tokenizer = AutoTokenizer.from_pretrained(MODEL)"
   ]
  },
  {
   "cell_type": "markdown",
   "id": "4169b474",
   "metadata": {},
   "source": [
    "Define the sentiment labels: Negative, Neutral, and Positive."
   ]
  },
  {
   "cell_type": "code",
   "execution_count": 4,
   "id": "30c38228",
   "metadata": {},
   "outputs": [],
   "source": [
    "labels = ['Negative', 'Neutral', 'Positive']\n"
   ]
  },
  {
   "cell_type": "markdown",
   "id": "4b0262e0",
   "metadata": {},
   "source": [
    "The data frame df is defined to be df_post, which presumably contains the data you're interested in processing."
   ]
  },
  {
   "cell_type": "code",
   "execution_count": 5,
   "id": "36e6421b",
   "metadata": {},
   "outputs": [],
   "source": [
    "df = df_post"
   ]
  },
  {
   "cell_type": "markdown",
   "id": "ecbb7fe1",
   "metadata": {},
   "source": [
    "Define a function preprocess_tweet to preprocess tweets. This function replaces @mentions with \"@user\" and links (starting with http) with \"http\"."
   ]
  },
  {
   "cell_type": "code",
   "execution_count": 6,
   "id": "c08ff012",
   "metadata": {},
   "outputs": [],
   "source": [
    "def preprocess_tweet(tweet):\n",
    "    if isinstance(tweet, str):\n",
    "        tweet = tweet.lower()  # Convert to lowercase\n",
    "      \n",
    "        tweet_words = []\n",
    "        for word in tweet.split(' '):\n",
    "            if word.startswith('@') and len(word) > 1:\n",
    "                word = '@user'\n",
    "            elif word.startswith('http'):\n",
    "                word = \"http\"\n",
    "            tweet_words.append(word)\n",
    "\n",
    "        return \" \".join(tweet_words)\n",
    "    else:\n",
    "        return \"\""
   ]
  },
  {
   "cell_type": "markdown",
   "id": "248ffcf2",
   "metadata": {},
   "source": [
    "def preprocess_tweet(tweet):\n",
    "    tweet_words = []\n",
    "    for word in tweet.split(' '):\n",
    "        if word.startswith('@') and len(word) > 1:\n",
    "            word = '@user'\n",
    "        elif word.startswith('http'):\n",
    "            word = \"http\"\n",
    "        tweet_words.append(word)\n",
    "    return \" \".join(tweet_words)\n"
   ]
  },
  {
   "cell_type": "markdown",
   "id": "1cf07f95",
   "metadata": {},
   "source": [
    "def preprocess_tweet(tweet):\n",
    "    if isinstance(tweet, float):\n",
    "        return ''\n",
    "    \n",
    "    tweet_words = []\n",
    "    for word in str(tweet).split(' '):\n",
    "        if word.startswith('@') and len(word) > 1:\n",
    "            word = '@user'\n",
    "        elif word.startswith('http') or word.startswith('www'):\n",
    "            word = '@url'\n",
    "        tweet_words.append(word)\n",
    "    \n",
    "    return ' '.join(tweet_words)"
   ]
  },
  {
   "cell_type": "markdown",
   "id": "abce04f7",
   "metadata": {},
   "source": [
    "Apply the preprocess_tweet function to all tweets in the dataframe and store the results in a new column named processed_text."
   ]
  },
  {
   "cell_type": "code",
   "execution_count": 7,
   "id": "c507b271",
   "metadata": {},
   "outputs": [
    {
     "name": "stderr",
     "output_type": "stream",
     "text": [
      "C:\\Users\\Pablo\\AppData\\Local\\Temp\\ipykernel_15092\\139711792.py:1: SettingWithCopyWarning: \n",
      "A value is trying to be set on a copy of a slice from a DataFrame\n",
      "\n",
      "See the caveats in the documentation: https://pandas.pydata.org/pandas-docs/stable/user_guide/indexing.html#returning-a-view-versus-a-copy\n",
      "  df['processed_text'] = df.apply(preprocess_tweet)\n"
     ]
    }
   ],
   "source": [
    "df['processed_text'] = df.apply(preprocess_tweet)"
   ]
  },
  {
   "cell_type": "markdown",
   "id": "e920bf64",
   "metadata": {},
   "source": [
    "Define a function analyze_sentiment to analyze the sentiment of tweets using the loaded model and tokenizer. This function returns a dictionary of sentiment labels and their corresponding scores."
   ]
  },
  {
   "cell_type": "code",
   "execution_count": 8,
   "id": "b62511dd",
   "metadata": {},
   "outputs": [],
   "source": [
    "def analyze_sentiment(tweet):\n",
    "    encoded_tweet = tokenizer(tweet, return_tensors='pt')\n",
    "    output = model(**encoded_tweet)\n",
    "    scores = output[0][0].detach().numpy()\n",
    "    scores = softmax(scores)\n",
    "    return dict(zip(labels, scores))\n"
   ]
  },
  {
   "cell_type": "markdown",
   "id": "909188a5",
   "metadata": {},
   "source": [
    "Apply the analyze_sentiment function to all processed tweets in the dataframe and store the results in a new column named sentiment_analysis."
   ]
  },
  {
   "cell_type": "code",
   "execution_count": 9,
   "id": "fd064097",
   "metadata": {},
   "outputs": [],
   "source": [
    "df['sentiment_analysis'] = df['processed_text'].apply(analyze_sentiment)\n"
   ]
  },
  {
   "cell_type": "markdown",
   "id": "6440f7cf",
   "metadata": {},
   "source": [
    "Break down the sentiment_analysis column into separate columns for each sentiment label."
   ]
  },
  {
   "cell_type": "code",
   "execution_count": 10,
   "id": "2006f754",
   "metadata": {},
   "outputs": [],
   "source": [
    "sentiment_df = df['sentiment_analysis'].apply(pd.Series)\n"
   ]
  },
  {
   "cell_type": "markdown",
   "id": "f2d56c5b",
   "metadata": {},
   "source": [
    "Concatenate the original data frame with the new sentiment dataframe along columns (axis=1)."
   ]
  },
  {
   "cell_type": "code",
   "execution_count": 11,
   "id": "80a7e727",
   "metadata": {},
   "outputs": [],
   "source": [
    "df = pd.concat([df_original, sentiment_df], axis=1)\n"
   ]
  },
  {
   "cell_type": "markdown",
   "id": "fe418965",
   "metadata": {},
   "source": [
    "Determine the final sentiment for each tweet by choosing the sentiment label with the highest score, and store this in a new column named final_sentiment."
   ]
  },
  {
   "cell_type": "code",
   "execution_count": 12,
   "id": "97d75460",
   "metadata": {},
   "outputs": [],
   "source": [
    "df['final_sentiment'] = sentiment_df.idxmax(axis=1)\n"
   ]
  },
  {
   "cell_type": "code",
   "execution_count": 13,
   "id": "dfd06dee",
   "metadata": {},
   "outputs": [
    {
     "data": {
      "text/html": [
       "<div>\n",
       "<style scoped>\n",
       "    .dataframe tbody tr th:only-of-type {\n",
       "        vertical-align: middle;\n",
       "    }\n",
       "\n",
       "    .dataframe tbody tr th {\n",
       "        vertical-align: top;\n",
       "    }\n",
       "\n",
       "    .dataframe thead th {\n",
       "        text-align: right;\n",
       "    }\n",
       "</style>\n",
       "<table border=\"1\" class=\"dataframe\">\n",
       "  <thead>\n",
       "    <tr style=\"text-align: right;\">\n",
       "      <th></th>\n",
       "      <th>Nº</th>\n",
       "      <th>PARTIDO</th>\n",
       "      <th>CANDIDATO</th>\n",
       "      <th>NICK</th>\n",
       "      <th>FOLLOWERS</th>\n",
       "      <th>FECHA</th>\n",
       "      <th>POST</th>\n",
       "      <th>VIDEO</th>\n",
       "      <th>FOTO</th>\n",
       "      <th>REPOST</th>\n",
       "      <th>...</th>\n",
       "      <th>SHARED</th>\n",
       "      <th>LIKES</th>\n",
       "      <th>VIEWED</th>\n",
       "      <th>VOTOS</th>\n",
       "      <th>PORCENTAJE</th>\n",
       "      <th>ESCAÑOS</th>\n",
       "      <th>Negative</th>\n",
       "      <th>Neutral</th>\n",
       "      <th>Positive</th>\n",
       "      <th>final_sentiment</th>\n",
       "    </tr>\n",
       "  </thead>\n",
       "  <tbody>\n",
       "    <tr>\n",
       "      <th>0</th>\n",
       "      <td>1</td>\n",
       "      <td>PP</td>\n",
       "      <td>Isabel Díaz Ayuso</td>\n",
       "      <td>@IdiazAyuso</td>\n",
       "      <td>912100</td>\n",
       "      <td>2023-05-12</td>\n",
       "      <td>Comenzamos la campaña, una vez más, junto a la...</td>\n",
       "      <td>SI</td>\n",
       "      <td>NO</td>\n",
       "      <td>NO</td>\n",
       "      <td>...</td>\n",
       "      <td>261</td>\n",
       "      <td>1260</td>\n",
       "      <td>58700.0</td>\n",
       "      <td>1586985</td>\n",
       "      <td>0.4734</td>\n",
       "      <td>71</td>\n",
       "      <td>0.034475</td>\n",
       "      <td>0.037882</td>\n",
       "      <td>0.927643</td>\n",
       "      <td>Positive</td>\n",
       "    </tr>\n",
       "    <tr>\n",
       "      <th>1</th>\n",
       "      <td>2</td>\n",
       "      <td>PP</td>\n",
       "      <td>Isabel Díaz Ayuso</td>\n",
       "      <td>@IdiazAyuso</td>\n",
       "      <td>912100</td>\n",
       "      <td>2023-05-12</td>\n",
       "      <td>Madrid es la región del Espíritu de Ermua, la ...</td>\n",
       "      <td>NO</td>\n",
       "      <td>NO</td>\n",
       "      <td>NO</td>\n",
       "      <td>...</td>\n",
       "      <td>561</td>\n",
       "      <td>2127</td>\n",
       "      <td>101600.0</td>\n",
       "      <td>1586985</td>\n",
       "      <td>0.4734</td>\n",
       "      <td>71</td>\n",
       "      <td>0.904359</td>\n",
       "      <td>0.060345</td>\n",
       "      <td>0.035295</td>\n",
       "      <td>Negative</td>\n",
       "    </tr>\n",
       "    <tr>\n",
       "      <th>2</th>\n",
       "      <td>3</td>\n",
       "      <td>PP</td>\n",
       "      <td>Isabel Díaz Ayuso</td>\n",
       "      <td>@IdiazAyuso</td>\n",
       "      <td>912100</td>\n",
       "      <td>2023-05-12</td>\n",
       "      <td>Majadahonda con ganas de Libertad, familia, un...</td>\n",
       "      <td>NO</td>\n",
       "      <td>SI</td>\n",
       "      <td>NO</td>\n",
       "      <td>...</td>\n",
       "      <td>213</td>\n",
       "      <td>1042</td>\n",
       "      <td>59700.0</td>\n",
       "      <td>1586985</td>\n",
       "      <td>0.4734</td>\n",
       "      <td>71</td>\n",
       "      <td>0.014554</td>\n",
       "      <td>0.021517</td>\n",
       "      <td>0.963929</td>\n",
       "      <td>Positive</td>\n",
       "    </tr>\n",
       "    <tr>\n",
       "      <th>3</th>\n",
       "      <td>4</td>\n",
       "      <td>PP</td>\n",
       "      <td>Isabel Díaz Ayuso</td>\n",
       "      <td>@IdiazAyuso</td>\n",
       "      <td>912100</td>\n",
       "      <td>2023-05-13</td>\n",
       "      <td>❤️❤️</td>\n",
       "      <td>NO</td>\n",
       "      <td>SI</td>\n",
       "      <td>SI</td>\n",
       "      <td>...</td>\n",
       "      <td>343</td>\n",
       "      <td>2958</td>\n",
       "      <td>159100.0</td>\n",
       "      <td>1586985</td>\n",
       "      <td>0.4734</td>\n",
       "      <td>71</td>\n",
       "      <td>0.005584</td>\n",
       "      <td>0.010402</td>\n",
       "      <td>0.984014</td>\n",
       "      <td>Positive</td>\n",
       "    </tr>\n",
       "    <tr>\n",
       "      <th>4</th>\n",
       "      <td>5</td>\n",
       "      <td>PP</td>\n",
       "      <td>Isabel Díaz Ayuso</td>\n",
       "      <td>@IdiazAyuso</td>\n",
       "      <td>912100</td>\n",
       "      <td>2023-05-13</td>\n",
       "      <td>Presidente: líbranos del mal.</td>\n",
       "      <td>NO</td>\n",
       "      <td>SI</td>\n",
       "      <td>NO</td>\n",
       "      <td>...</td>\n",
       "      <td>549</td>\n",
       "      <td>2592</td>\n",
       "      <td>330800.0</td>\n",
       "      <td>1586985</td>\n",
       "      <td>0.4734</td>\n",
       "      <td>71</td>\n",
       "      <td>0.680318</td>\n",
       "      <td>0.128941</td>\n",
       "      <td>0.190741</td>\n",
       "      <td>Negative</td>\n",
       "    </tr>\n",
       "  </tbody>\n",
       "</table>\n",
       "<p>5 rows × 23 columns</p>\n",
       "</div>"
      ],
      "text/plain": [
       "   Nº PARTIDO          CANDIDATO          NICK  FOLLOWERS      FECHA  \\\n",
       "0   1      PP  Isabel Díaz Ayuso   @IdiazAyuso     912100 2023-05-12   \n",
       "1   2      PP  Isabel Díaz Ayuso   @IdiazAyuso     912100 2023-05-12   \n",
       "2   3      PP  Isabel Díaz Ayuso   @IdiazAyuso     912100 2023-05-12   \n",
       "3   4      PP  Isabel Díaz Ayuso   @IdiazAyuso     912100 2023-05-13   \n",
       "4   5      PP  Isabel Díaz Ayuso   @IdiazAyuso     912100 2023-05-13   \n",
       "\n",
       "                                                POST VIDEO FOTO REPOST  ...  \\\n",
       "0  Comenzamos la campaña, una vez más, junto a la...    SI   NO     NO  ...   \n",
       "1  Madrid es la región del Espíritu de Ermua, la ...    NO   NO     NO  ...   \n",
       "2  Majadahonda con ganas de Libertad, familia, un...    NO   SI     NO  ...   \n",
       "3                                               ❤️❤️    NO   SI     SI  ...   \n",
       "4                      Presidente: líbranos del mal.    NO   SI     NO  ...   \n",
       "\n",
       "  SHARED LIKES    VIEWED    VOTOS  PORCENTAJE  ESCAÑOS  Negative   Neutral  \\\n",
       "0    261  1260   58700.0  1586985      0.4734       71  0.034475  0.037882   \n",
       "1    561  2127  101600.0  1586985      0.4734       71  0.904359  0.060345   \n",
       "2    213  1042   59700.0  1586985      0.4734       71  0.014554  0.021517   \n",
       "3    343  2958  159100.0  1586985      0.4734       71  0.005584  0.010402   \n",
       "4    549  2592  330800.0  1586985      0.4734       71  0.680318  0.128941   \n",
       "\n",
       "   Positive  final_sentiment  \n",
       "0  0.927643         Positive  \n",
       "1  0.035295         Negative  \n",
       "2  0.963929         Positive  \n",
       "3  0.984014         Positive  \n",
       "4  0.190741         Negative  \n",
       "\n",
       "[5 rows x 23 columns]"
      ]
     },
     "execution_count": 13,
     "metadata": {},
     "output_type": "execute_result"
    }
   ],
   "source": [
    "df.head()"
   ]
  },
  {
   "cell_type": "markdown",
   "id": "ad518df8",
   "metadata": {},
   "source": [
    "We export it to csv."
   ]
  },
  {
   "cell_type": "code",
   "execution_count": 16,
   "id": "c3a74ce0",
   "metadata": {},
   "outputs": [],
   "source": [
    "df.to_csv('../data/processed/df_Sentiment_pred_roberta_politic.csv')"
   ]
  },
  {
   "cell_type": "code",
   "execution_count": null,
   "id": "02113d92",
   "metadata": {},
   "outputs": [],
   "source": []
  }
 ],
 "metadata": {
  "kernelspec": {
   "display_name": "TFM",
   "language": "python",
   "name": "tfm"
  },
  "language_info": {
   "codemirror_mode": {
    "name": "ipython",
    "version": 3
   },
   "file_extension": ".py",
   "mimetype": "text/x-python",
   "name": "python",
   "nbconvert_exporter": "python",
   "pygments_lexer": "ipython3",
   "version": "3.9.16"
  }
 },
 "nbformat": 4,
 "nbformat_minor": 5
}
